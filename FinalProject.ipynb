{
 "cells": [
  {
   "cell_type": "code",
   "execution_count": 1,
   "metadata": {},
   "outputs": [
    {
     "name": "stderr",
     "output_type": "stream",
     "text": [
      "/home/student/anaconda3/lib/python3.6/site-packages/h5py/__init__.py:34: FutureWarning: Conversion of the second argument of issubdtype from `float` to `np.floating` is deprecated. In future, it will be treated as `np.float64 == np.dtype(float).type`.\n",
      "  from ._conv import register_converters as _register_converters\n",
      "Using TensorFlow backend.\n"
     ]
    }
   ],
   "source": [
    "import numpy as np\n",
    "import os\n",
    "from tensorflow import keras\n",
    "import keras\n",
    "import cv2 as cv2\n",
    "from keras import backend as K\n",
    "from keras.models import Sequential\n",
    "from keras.layers import Activation\n",
    "from keras.layers.core import Dense, Flatten\n",
    "from keras.optimizers import Adam\n",
    "from keras.metrics import categorical_crossentropy\n",
    "from keras.preprocessing.image import ImageDataGenerator\n",
    "from keras.layers.normalization import BatchNormalization\n",
    "from keras.layers.convolutional import *\n",
    "from matplotlib import pyplot as plt\n",
    "from sklearn.metrics import confusion_matrix\n",
    "import itertools\n",
    "import matplotlib.pyplot as plt\n",
    "from skimage.measure import regionprops\n",
    "import matplotlib.patches as mpatches\n",
    "from skimage.morphology import label\n",
    "from skimage import *\n",
    "from scipy import misc, ndimage\n",
    "from keras.callbacks import TensorBoard\n",
    "%matplotlib inline"
   ]
  },
  {
   "cell_type": "code",
   "execution_count": 2,
   "metadata": {
    "collapsed": true
   },
   "outputs": [],
   "source": [
    "train_path = 'Training'\n",
    "test_path = 'Test'\n",
    "valid_path = 'Valid'"
   ]
  },
  {
   "cell_type": "code",
   "execution_count": 3,
   "metadata": {},
   "outputs": [
    {
     "name": "stdout",
     "output_type": "stream",
     "text": [
      "Found 200 images belonging to 2 classes.\n",
      "Found 0 images belonging to 2 classes.\n",
      "Found 100 images belonging to 2 classes.\n"
     ]
    }
   ],
   "source": [
    "train_batches = ImageDataGenerator().flow_from_directory(train_path, target_size=(224,224),classes=['Healthy_Leaves','Unhealthy_Leaves'], batch_size=20)\n",
    "test_batches = ImageDataGenerator().flow_from_directory(test_path, target_size=(224,224),classes=['Healthy_Leaves','Unhealthy_Leaves'], batch_size=20)\n",
    "valid_batches = ImageDataGenerator().flow_from_directory(valid_path, target_size=(224,224),classes=['Healthy_Leaves','Unhealthy_Leaves'], batch_size=5)"
   ]
  },
  {
   "cell_type": "code",
   "execution_count": 4,
   "metadata": {
    "collapsed": true
   },
   "outputs": [],
   "source": [
    "def plots(ims, figsize=(12,6), rows=1, interp=False, titles=None):\n",
    "    if type(ims[0]) is np.ndarray:\n",
    "        ims = np.array(ims).astype(np.uint8)\n",
    "        if (ims.shape[-1] != 3):\n",
    "            ims = ims.transpose((0,2,3,1))\n",
    "    f = plt.figure(figsize=figsize)\n",
    "    cols = len(ims)//rows if len(ims) % 2 == 0 else len(ims)//rows + 1\n",
    "    for i in range(len(ims)):\n",
    "        sp = f.add_subplot(rows, cols, i+1)\n",
    "        sp.axis('Off')\n",
    "        if titles is not None:\n",
    "            sp.set_title(titles[i], fontsize=16)\n",
    "        plt.imshow(ims[i], interpolation=None if interp else 'none')"
   ]
  },
  {
   "cell_type": "markdown",
   "metadata": {},
   "source": [
    "# Confusion matrix"
   ]
  },
  {
   "cell_type": "code",
   "execution_count": 5,
   "metadata": {},
   "outputs": [],
   "source": [
    "# test_imgs, test_labels = next(test_batches)\n",
    "# plots(test_imgs, titles=test_labels)"
   ]
  },
  {
   "cell_type": "code",
   "execution_count": 6,
   "metadata": {
    "collapsed": true
   },
   "outputs": [],
   "source": [
    "#rounded_predictions = model.predict_classes(scaled_test_samples, batch_size=10,verbose=0)"
   ]
  },
  {
   "cell_type": "code",
   "execution_count": 7,
   "metadata": {
    "collapsed": true
   },
   "outputs": [],
   "source": [
    "#cm = confusion_matrix(test_labels, rounded_predictions)"
   ]
  },
  {
   "cell_type": "code",
   "execution_count": 8,
   "metadata": {
    "collapsed": true
   },
   "outputs": [],
   "source": [
    "def plot_confusion_matrix(cm, classes,\n",
    "                          normalize=False,\n",
    "                          title='Confusion matrix',\n",
    "                          cmap=plt.cm.Blues):\n",
    "    \"\"\"\n",
    "    This function prints and plots the confusion matrix.\n",
    "    Normalization can be applied by setting `normalize=True`.\n",
    "    \"\"\"\n",
    "    if normalize:\n",
    "        cm = cm.astype('float') / cm.sum(axis=1)[:, np.newaxis]\n",
    "        print(\"Normalized confusion matrix\")\n",
    "    else:\n",
    "        print('Confusion matrix, without normalization')\n",
    "\n",
    "    print(cm)\n",
    "\n",
    "    plt.imshow(cm, interpolation='nearest', cmap=cmap)\n",
    "    plt.title(title)\n",
    "    plt.colorbar()\n",
    "    tick_marks = np.arange(len(classes))\n",
    "    plt.xticks(tick_marks, classes, rotation=45)\n",
    "    plt.yticks(tick_marks, classes)\n",
    "\n",
    "    fmt = '.2f' if normalize else 'd'\n",
    "    thresh = cm.max() / 2.\n",
    "    for i, j in itertools.product(range(cm.shape[0]), range(cm.shape[1])):\n",
    "        plt.text(j, i, format(cm[i, j], fmt),\n",
    "                 horizontalalignment=\"center\",\n",
    "                 color=\"white\" if cm[i, j] > thresh else \"black\")\n",
    "\n",
    "    plt.tight_layout()\n",
    "    plt.ylabel('True label') \n",
    "    plt.xlabel('Predicted label')"
   ]
  },
  {
   "cell_type": "markdown",
   "metadata": {},
   "source": [
    "# Prepoccessing the images"
   ]
  },
  {
   "cell_type": "code",
   "execution_count": 9,
   "metadata": {
    "collapsed": true,
    "scrolled": true
   },
   "outputs": [],
   "source": [
    "# image_path = 'Training/Unhealthy_Leaves/d2313a95-61dd-45de-a8b8-3c2992e2b97f___JR_FrgE.S 8652.JPG'\n",
    "# nimg = cv2.imread(image_path,0)\n",
    "# edges = cv2.Canny(nimg,200,200)\n",
    "\n",
    "# laplacian = cv2.Laplacian(nimg,cv2.CV_64F)\n",
    "# sobelx = cv2.Sobel(nimg,cv2.CV_64F,1,0,ksize=5)  # x\n",
    "# sobely = cv2.Sobel(nimg,cv2.CV_64F,0,1,ksize=5)  # y\n",
    "\n",
    "\n",
    "# plt.subplot(121),plt.imshow(nimg,cmap = 'gray')\n",
    "# plt.title('Original Image'), plt.xticks([]), plt.yticks([])\n",
    "# plt.subplot(122),plt.imshow(edges,cmap = 'gray')\n",
    "# plt.title('Edge Image'), plt.xticks([]), plt.yticks([])\n",
    "# plt.subplot(2,2,1),plt.imshow(nimg,cmap = 'gray')\n",
    "# plt.title('Original'), plt.xticks([]), plt.yticks([])\n",
    "# plt.subplot(2,2,2),plt.imshow(laplacian,cmap = 'gray')\n",
    "# plt.title('Laplacian'), plt.xticks([]), plt.yticks([])\n",
    "# plt.subplot(2,2,3),plt.imshow(sobelx,cmap = 'gray')\n",
    "# plt.title('Sobel X'), plt.xticks([]), plt.yticks([])\n",
    "# plt.subplot(2,2,4),plt.imshow(sobely,cmap = 'gray')\n",
    "# plt.title('Sobel Y'), plt.xticks([]), plt.yticks([])\n",
    "\n",
    "# plt.show()"
   ]
  },
  {
   "cell_type": "code",
   "execution_count": 10,
   "metadata": {
    "collapsed": true
   },
   "outputs": [],
   "source": [
    "def replace_image(image, image_to_be_replaced_path, filename):\n",
    "    cv2.imwrite(os.path.join(path , filename), image)"
   ]
  },
  {
   "cell_type": "code",
   "execution_count": 11,
   "metadata": {
    "collapsed": true
   },
   "outputs": [],
   "source": [
    "# model = Sequential([\n",
    "#     Conv2D(32,(3,3),activation='relu',input_shape=(224,224,3)),\n",
    "#     Flatten(),\n",
    "#     Dense(2,activation='softmax')\n",
    "# ])\n",
    "# model.compile(Adam(lr=.0001),loss='categorical_crossentropy',metrics=['accuracy'])\n",
    "# path = \"/home/student/FinalProject/Training/Healthy_Leaves/\"\n",
    "# for i in os.listdir(path):\n",
    "#     image_path = path + i\n",
    "#     img = cv2.imread(image_path, 1)#color\n",
    "# #     cv2.imshow('colored image', img)\n",
    "# #     cv2.waitKey()\n",
    "#     nimg = cv2.imread(image_path, 0)#grayscale\n",
    "#     nimg = cv2.threshold(nimg, 127, 255, cv2.THRESH_BINARY)[1]  # ensure binary\n",
    "#     image, contours, hier = cv2.findContours(nimg, cv2.RETR_TREE,cv2.CHAIN_APPROX_SIMPLE)\n",
    "#     ret, labels = cv2.connectedComponents(nimg)\n",
    "\n",
    "#     # Map component labels to hue val\n",
    "#     label_hue = np.uint8(179*labels/np.max(labels))\n",
    "#     blank_ch = 255*np.ones_like(label_hue)\n",
    "#     labeled_img = cv2.merge([label_hue, blank_ch, blank_ch])\n",
    "\n",
    "#     # cvt to BGR for display\n",
    "#     labeled_img = cv2.cvtColor(labeled_img, cv2.COLOR_HSV2BGR)\n",
    "#     # set bg label to black\n",
    "#     labeled_img[label_hue==0] = 0\n",
    "#     w_max = 0\n",
    "#     h_max = 0\n",
    "#     for c in contours:\n",
    "#         x,y,w,h = cv2.boundingRect(c)\n",
    "#         cv2.rectangle(nimg, (x,y), (x+w, y+h), (0,255,0),2)\n",
    "#         if (w_max*h_max) < (w*h) and x != 0 and y != 0:\n",
    "#             x_max = x\n",
    "#             y_max = y\n",
    "#             w_max = w\n",
    "#             h_max = h\n",
    "#     cv2.rectangle(nimg, (x_max,y_max), (x_max+w_max, y_max+h_max), (0,255,0),2)\n",
    "#     img = img[y_max:y_max+h_max, x_max:x_max+w_max]\n",
    "#     replace_image(img, path, i)\n",
    "# cv2.imshow('labeled.png', labeled_img)\n",
    "# cv2.waitKey()\n",
    "# cv2.destroyAllWindows()"
   ]
  },
  {
   "cell_type": "code",
   "execution_count": 12,
   "metadata": {
    "collapsed": true,
    "scrolled": false
   },
   "outputs": [],
   "source": [
    "# label_image = label(labeled_img)\n",
    "# blobs = measure.label(label_image, connectivity=1)\n",
    "# props = measure.regionprops(blobs)\n",
    "# props[0].bbox\n",
    "#roi = regionprops(props)\n",
    "#props[0].area\n",
    "#cv2.imshow(roi)\n",
    "# w_max = 0\n",
    "# h_max = 0\n",
    "# for c in contours:\n",
    "#     x,y,w,h = cv2.boundingRect(c)\n",
    "#     cv2.rectangle(nimg, (x,y), (x+w, y+h), (0,255,0),2)\n",
    "#     #print(x,y,w,h)\n",
    "#     if (w_max*h_max) < (w*h) and x != 0 and y != 0:\n",
    "#         x_max = x\n",
    "#         y_max = y\n",
    "#         w_max = w\n",
    "#         h_max = h\n",
    "\n",
    "#print(x_max,y_max,h_max,w_max)\n",
    "# cv2.rectangle(nimg, (x_max,y_max), (x_max+w_max, y_max+h_max), (0,255,0),2)\n",
    "# cv2.imshow('uncropped image', nimg)\n",
    "# cv2.waitKey()\n",
    "# img = img[y_max:y_max+h_max, x_max:x_max+w_max]\n",
    "# cv2.imshow('cropped image', img)\n",
    "# cv2.waitKey()\n",
    "# cv2.destroyAllWindows()"
   ]
  },
  {
   "cell_type": "markdown",
   "metadata": {},
   "source": [
    "# Training the model"
   ]
  },
  {
   "cell_type": "code",
   "execution_count": 13,
   "metadata": {
    "collapsed": true
   },
   "outputs": [],
   "source": [
    "model = Sequential([\n",
    "    Conv2D(32,(3,3),activation='relu',input_shape=(224,224,3)),\n",
    "    Flatten(),\n",
    "    Dense(2,activation='softmax')\n",
    "])"
   ]
  },
  {
   "cell_type": "code",
   "execution_count": 14,
   "metadata": {
    "collapsed": true
   },
   "outputs": [],
   "source": [
    "#model.compile(Adam(lr=.0001),loss='categorical_crossentropy',metrics=['accuracy'])"
   ]
  },
  {
   "cell_type": "code",
   "execution_count": 15,
   "metadata": {
    "scrolled": true
   },
   "outputs": [],
   "source": [
    "#model.fit_generator(train_batches, steps_per_epoch=4,validation_data=valid_batches, validation_steps=4,epochs=10,verbose=2)"
   ]
  },
  {
   "cell_type": "markdown",
   "metadata": {},
   "source": [
    "# Predict"
   ]
  },
  {
   "cell_type": "code",
   "execution_count": 16,
   "metadata": {},
   "outputs": [],
   "source": [
    "# test_imgs, test_labels = next(test_batches)\n",
    "# plots(test_imgs, titles=test_labels)"
   ]
  },
  {
   "cell_type": "code",
   "execution_count": 17,
   "metadata": {},
   "outputs": [],
   "source": [
    "# test_labels = test_labels[:,0]\n",
    "# test_labels"
   ]
  },
  {
   "cell_type": "code",
   "execution_count": 18,
   "metadata": {
    "collapsed": true
   },
   "outputs": [],
   "source": [
    "#predictions = model.predict_generator(test_batches,steps=1,verbose=0)"
   ]
  },
  {
   "cell_type": "code",
   "execution_count": 19,
   "metadata": {},
   "outputs": [],
   "source": [
    "#predictions"
   ]
  },
  {
   "cell_type": "code",
   "execution_count": 20,
   "metadata": {
    "collapsed": true
   },
   "outputs": [],
   "source": [
    "#cm = confusion_matrix(test_labels, predictions[:,0])"
   ]
  },
  {
   "cell_type": "code",
   "execution_count": 21,
   "metadata": {},
   "outputs": [],
   "source": [
    "#cm_plot_labels = ['Unhealthy', 'Healthy']\n",
    "#plot_confusion_matrix(cm, cm_plot_labels, title='confusion matrix')"
   ]
  },
  {
   "cell_type": "markdown",
   "metadata": {},
   "source": [
    "# Fine tuning model"
   ]
  },
  {
   "cell_type": "code",
   "execution_count": 22,
   "metadata": {
    "collapsed": true
   },
   "outputs": [],
   "source": [
    "vgg16_model = keras.applications.vgg16.VGG16()"
   ]
  },
  {
   "cell_type": "code",
   "execution_count": 23,
   "metadata": {},
   "outputs": [],
   "source": [
    "#vgg16_model.summary()"
   ]
  },
  {
   "cell_type": "code",
   "execution_count": 24,
   "metadata": {
    "collapsed": true
   },
   "outputs": [],
   "source": [
    "model = Sequential()\n",
    "for layer in vgg16_model.layers:\n",
    "    model.add(layer)"
   ]
  },
  {
   "cell_type": "code",
   "execution_count": 25,
   "metadata": {},
   "outputs": [],
   "source": [
    "#model.summary()"
   ]
  },
  {
   "cell_type": "code",
   "execution_count": 26,
   "metadata": {},
   "outputs": [
    {
     "data": {
      "text/plain": [
       "<keras.layers.core.Dense at 0x7f5470701f98>"
      ]
     },
     "execution_count": 26,
     "metadata": {},
     "output_type": "execute_result"
    }
   ],
   "source": [
    "model.layers.pop()"
   ]
  },
  {
   "cell_type": "code",
   "execution_count": 27,
   "metadata": {},
   "outputs": [],
   "source": [
    "#model.summary()"
   ]
  },
  {
   "cell_type": "code",
   "execution_count": 28,
   "metadata": {
    "collapsed": true
   },
   "outputs": [],
   "source": [
    "for layer in model.layers:\n",
    "    layer.trainable = False"
   ]
  },
  {
   "cell_type": "code",
   "execution_count": 29,
   "metadata": {
    "collapsed": true
   },
   "outputs": [],
   "source": [
    "model.add(Dense(2, activation='softmax'))"
   ]
  },
  {
   "cell_type": "code",
   "execution_count": 30,
   "metadata": {
    "scrolled": true
   },
   "outputs": [],
   "source": [
    "#model.summary()"
   ]
  },
  {
   "cell_type": "code",
   "execution_count": 31,
   "metadata": {
    "collapsed": true
   },
   "outputs": [],
   "source": [
    "model.compile(Adam(lr=.0001),loss='categorical_crossentropy',metrics=['accuracy'])"
   ]
  },
  {
   "cell_type": "markdown",
   "metadata": {},
   "source": [
    "fits the model and creates a tensorboard graph"
   ]
  },
  {
   "cell_type": "code",
   "execution_count": 32,
   "metadata": {},
   "outputs": [
    {
     "name": "stdout",
     "output_type": "stream",
     "text": [
      "Epoch 1/5\n",
      " - 24s - loss: 0.6887 - acc: 0.7875 - val_loss: 0.6828 - val_acc: 0.9500\n",
      "Epoch 2/5\n",
      " - 23s - loss: 0.6789 - acc: 0.9875 - val_loss: 0.6740 - val_acc: 1.0000\n",
      "Epoch 3/5\n",
      " - 23s - loss: 0.6694 - acc: 1.0000 - val_loss: 0.6658 - val_acc: 1.0000\n",
      "Epoch 4/5\n",
      " - 23s - loss: 0.6618 - acc: 1.0000 - val_loss: 0.6587 - val_acc: 1.0000\n",
      "Epoch 5/5\n",
      " - 24s - loss: 0.6570 - acc: 1.0000 - val_loss: 0.6524 - val_acc: 1.0000\n"
     ]
    },
    {
     "data": {
      "text/plain": [
       "<keras.callbacks.History at 0x7f54705c54a8>"
      ]
     },
     "execution_count": 32,
     "metadata": {},
     "output_type": "execute_result"
    }
   ],
   "source": [
    "tensorBoardCallback = TensorBoard(log_dir='./logs', write_graph=True)\n",
    "model.fit_generator(train_batches, steps_per_epoch=4,\n",
    "                   validation_data=valid_batches, validation_steps=4,epochs=5,verbose=2, callbacks=[tensorBoardCallback])"
   ]
  },
  {
   "cell_type": "code",
   "execution_count": 34,
   "metadata": {},
   "outputs": [],
   "source": [
    "# test_imgs, test_labels = next(test_batches)\n",
    "# plots(test_imgs, titles=test_labels)"
   ]
  },
  {
   "cell_type": "code",
   "execution_count": null,
   "metadata": {},
   "outputs": [],
   "source": [
    "# test_labels = test_labels[:,0]\n",
    "# test_labels"
   ]
  },
  {
   "cell_type": "code",
   "execution_count": null,
   "metadata": {},
   "outputs": [],
   "source": [
    "# predictions = model.predict_generator(test_batches,steps=1,verbose=0)\n",
    "# predictions"
   ]
  },
  {
   "cell_type": "code",
   "execution_count": null,
   "metadata": {},
   "outputs": [],
   "source": [
    "# cm = confusion_matrix(test_labels, np.round(predictions[:,0]))\n",
    "# cm_plot_labels = ['Unhealthy', 'Healthy']\n",
    "# plot_confusion_matrix(cm, cm_plot_labels, title='confusion matrix')"
   ]
  },
  {
   "cell_type": "code",
   "execution_count": 38,
   "metadata": {},
   "outputs": [
    {
     "name": "stdout",
     "output_type": "stream",
     "text": [
      "Found 1 images belonging to 1 classes.\n"
     ]
    },
    {
     "data": {
      "text/plain": [
       "array([[0.5144205, 0.4855795]], dtype=float32)"
      ]
     },
     "execution_count": 38,
     "metadata": {},
     "output_type": "execute_result"
    }
   ],
   "source": [
    "image = ImageDataGenerator().flow_from_directory(test_path, target_size=(224,224),classes=['Leaves'], batch_size=20)\n",
    "classify_image = model.predict_generator(image,steps=1,verbose=0)\n",
    "classify_image"
   ]
  },
  {
   "cell_type": "markdown",
   "metadata": {},
   "source": [
    "# Data Augmentation"
   ]
  },
  {
   "cell_type": "code",
   "execution_count": null,
   "metadata": {
    "collapsed": true
   },
   "outputs": [],
   "source": [
    "gen = ImageDataGenerator(rotation_range=10,width_shift_range=0.1,\n",
    "                        height_shift_range=0.1,shear_range=0.15,zoom_range=0.1,\n",
    "                        channel_shift_range=10.,horizontal_flip=True)\n"
   ]
  },
  {
   "cell_type": "code",
   "execution_count": null,
   "metadata": {
    "collapsed": true
   },
   "outputs": [],
   "source": [
    "image_path = '/home/student/FinalProject/Training/Healthy_Leaves/Healthy_Leaf_1.jpg'"
   ]
  },
  {
   "cell_type": "code",
   "execution_count": null,
   "metadata": {
    "scrolled": true
   },
   "outputs": [],
   "source": [
    "#obtain image\n",
    "image = np.expand_dims(ndimage.imread(image_path),0)\n",
    "plt.imshow(image[0])"
   ]
  },
  {
   "cell_type": "code",
   "execution_count": null,
   "metadata": {
    "collapsed": true
   },
   "outputs": [],
   "source": [
    "aug_iter = gen.flow(image)"
   ]
  },
  {
   "cell_type": "code",
   "execution_count": null,
   "metadata": {
    "collapsed": true
   },
   "outputs": [],
   "source": [
    "aug_images = [next(aug_iter)[0].astype(np.uint8) for i in range(10)]"
   ]
  },
  {
   "cell_type": "code",
   "execution_count": null,
   "metadata": {},
   "outputs": [],
   "source": [
    "plots(aug_images,figsize=(20,7), rows=2)"
   ]
  },
  {
   "cell_type": "code",
   "execution_count": null,
   "metadata": {},
   "outputs": [],
   "source": [
    "test_imgs, test_labels = next(aug_images)\n",
    "plots(aug_images, titles=test_labels)\n",
    "test_labels = test_labels[:,0]\n",
    "test_labels"
   ]
  },
  {
   "cell_type": "code",
   "execution_count": null,
   "metadata": {
    "collapsed": true
   },
   "outputs": [],
   "source": [
    "predictions = model.predict_generator(test_batches,steps=1,verbose=0)\n",
    "predictions"
   ]
  },
  {
   "cell_type": "code",
   "execution_count": null,
   "metadata": {
    "collapsed": true
   },
   "outputs": [],
   "source": [
    "cm = confusion_matrix(test_labels, np.round(predictions[:,0]))\n",
    "cm_plot_labels = ['Unhealthy', 'Healthy']\n",
    "plot_confusion_matrix(cm, cm_plot_labels, title='confusion matrix')"
   ]
  },
  {
   "cell_type": "markdown",
   "metadata": {},
   "source": [
    "# Bias"
   ]
  },
  {
   "cell_type": "code",
   "execution_count": null,
   "metadata": {
    "collapsed": true
   },
   "outputs": [],
   "source": [
    "model = Sequential([\n",
    "    Dense(4,input_shape=(1,),activation='relu',use_bias=True,bias_initializer='zeros'),\n",
    "    Dense(2,activation='softmax')\n",
    "])"
   ]
  },
  {
   "cell_type": "code",
   "execution_count": null,
   "metadata": {
    "collapsed": true
   },
   "outputs": [],
   "source": [
    "model.get_weights()"
   ]
  },
  {
   "cell_type": "markdown",
   "metadata": {},
   "source": [
    "Plan for finshing up this project:\n",
    "I need to preproccess every image instead of just the one\n",
    "load the images into the model\n",
    "using data augmentation and bias and maybe more to complete the model\n",
    "then predict a test img and see the accuarcy\n",
    "After all of that, try to make it so you can input any image you want\n",
    "then maybe try to turn it into a andriod app.(this will take a while)"
   ]
  },
  {
   "cell_type": "code",
   "execution_count": null,
   "metadata": {
    "collapsed": true
   },
   "outputs": [],
   "source": []
  },
  {
   "cell_type": "code",
   "execution_count": null,
   "metadata": {
    "collapsed": true
   },
   "outputs": [],
   "source": []
  }
 ],
 "metadata": {
  "kernelspec": {
   "display_name": "Python 3",
   "language": "python",
   "name": "python3"
  },
  "language_info": {
   "codemirror_mode": {
    "name": "ipython",
    "version": 3
   },
   "file_extension": ".py",
   "mimetype": "text/x-python",
   "name": "python",
   "nbconvert_exporter": "python",
   "pygments_lexer": "ipython3",
   "version": "3.6.3"
  }
 },
 "nbformat": 4,
 "nbformat_minor": 2
}
